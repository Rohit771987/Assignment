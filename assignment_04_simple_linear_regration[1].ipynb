{
 "cells": [
  {
   "cell_type": "markdown",
   "id": "cb570731",
   "metadata": {},
   "source": []
  },
  {
   "cell_type": "markdown",
   "id": "42b9121f",
   "metadata": {},
   "source": [
    "# 1) Delivery_time -> Predict delivery time using sorting time"
   ]
  },
  {
   "cell_type": "code",
   "execution_count": 5,
   "id": "b197eb74",
   "metadata": {
    "scrolled": true
   },
   "outputs": [
    {
     "name": "stdout",
     "output_type": "stream",
     "text": [
      "<class 'pandas.core.frame.DataFrame'>\n",
      "RangeIndex: 21 entries, 0 to 20\n",
      "Data columns (total 2 columns):\n",
      " #   Column         Non-Null Count  Dtype  \n",
      "---  ------         --------------  -----  \n",
      " 0   Delivery Time  21 non-null     float64\n",
      " 1   Sorting Time   21 non-null     int64  \n",
      "dtypes: float64(1), int64(1)\n",
      "memory usage: 464.0 bytes\n",
      "Intercept    3.823349\n",
      "sorting      6.387447\n",
      "dtype: float64 \n",
      " Intercept    0.001147\n",
      "sorting      0.000004\n",
      "dtype: float64\n",
      "PREDICTION VALUE :\n",
      " 0    24.721953\n",
      "1    26.370973\n",
      "dtype: float64\n"
     ]
    },
    {
     "data": {
      "image/png": "[encoded data removed]",
      "text/plain": [
       "<Figure size 432x288 with 1 Axes>"
      ]
     },
     "metadata": {
      "needs_background": "light"
     },
     "output_type": "display_data"
    }
   ],
   "source": [
    "import pandas as pd \n",
    "import numpy as np\n",
    "import seaborn as sns\n",
    "\n",
    "# 1) Delivery_time -> Predict delivery time using sorting time \n",
    "\n",
    "data = pd.read_csv('delivery_time.csv')\n",
    "\n",
    "data.head()\n",
    "\n",
    "data.info()\n",
    "\n",
    "# correlation\n",
    "\n",
    "\n",
    "\n",
    "data.corr()\n",
    "\n",
    "data1=data.rename({'Delivery Time':'delivery','Sorting Time':'sorting'},axis=1)\n",
    "\n",
    "data1\n",
    "\n",
    "import statsmodels.formula.api as smf\n",
    "model = smf.ols(\"delivery~sorting\",data = data1).fit()\n",
    "\n",
    "sns.regplot(x = \"sorting\", y = \"delivery\",data = data1);\n",
    "\n",
    "model.summary()\n",
    "\n",
    "model.params\n",
    "\n",
    "print( model.tvalues, '\\n', model.pvalues)\n",
    "\n",
    "(model.rsquared,model.rsquared_adj)\n",
    "\n",
    "### predict for new data points\n",
    "\n",
    "# predict for 11 and 12 sorting time\n",
    "\n",
    "datas =pd.Series([11,12])\n",
    "\n",
    "data_pred = pd.DataFrame(datas,columns = ['sorting'])\n",
    "\n",
    "data_pred\n",
    "predic = model.predict(data_pred)\n",
    "print(\"PREDICTION VALUE :\\n\",predic)"
   ]
  },
  {
   "cell_type": "code",
   "execution_count": 6,
   "id": "f05162ff",
   "metadata": {
    "scrolled": true
   },
   "outputs": [
    {
     "data": {
      "text/html": [
       "<table class=\"simpletable\">\n",
       "<caption>OLS Regression Results</caption>\n",
       "<tr>\n",
       "  <th>Dep. Variable:</th>        <td>delivery</td>     <th>  R-squared:         </th> <td>   0.682</td>\n",
       "</tr>\n",
       "<tr>\n",
       "  <th>Model:</th>                   <td>OLS</td>       <th>  Adj. R-squared:    </th> <td>   0.666</td>\n",
       "</tr>\n",
       "<tr>\n",
       "  <th>Method:</th>             <td>Least Squares</td>  <th>  F-statistic:       </th> <td>   40.80</td>\n",
       "</tr>\n",
       "<tr>\n",
       "  <th>Date:</th>             <td>Sun, 31 Oct 2021</td> <th>  Prob (F-statistic):</th> <td>3.98e-06</td>\n",
       "</tr>\n",
       "<tr>\n",
       "  <th>Time:</th>                 <td>10:07:45</td>     <th>  Log-Likelihood:    </th> <td> -51.357</td>\n",
       "</tr>\n",
       "<tr>\n",
       "  <th>No. Observations:</th>      <td>    21</td>      <th>  AIC:               </th> <td>   106.7</td>\n",
       "</tr>\n",
       "<tr>\n",
       "  <th>Df Residuals:</th>          <td>    19</td>      <th>  BIC:               </th> <td>   108.8</td>\n",
       "</tr>\n",
       "<tr>\n",
       "  <th>Df Model:</th>              <td>     1</td>      <th>                     </th>     <td> </td>   \n",
       "</tr>\n",
       "<tr>\n",
       "  <th>Covariance Type:</th>      <td>nonrobust</td>    <th>                     </th>     <td> </td>   \n",
       "</tr>\n",
       "</table>\n",
       "<table class=\"simpletable\">\n",
       "<tr>\n",
       "      <td></td>         <th>coef</th>     <th>std err</th>      <th>t</th>      <th>P>|t|</th>  <th>[0.025</th>    <th>0.975]</th>  \n",
       "</tr>\n",
       "<tr>\n",
       "  <th>Intercept</th> <td>    6.5827</td> <td>    1.722</td> <td>    3.823</td> <td> 0.001</td> <td>    2.979</td> <td>   10.186</td>\n",
       "</tr>\n",
       "<tr>\n",
       "  <th>sorting</th>   <td>    1.6490</td> <td>    0.258</td> <td>    6.387</td> <td> 0.000</td> <td>    1.109</td> <td>    2.189</td>\n",
       "</tr>\n",
       "</table>\n",
       "<table class=\"simpletable\">\n",
       "<tr>\n",
       "  <th>Omnibus:</th>       <td> 3.649</td> <th>  Durbin-Watson:     </th> <td>   1.248</td>\n",
       "</tr>\n",
       "<tr>\n",
       "  <th>Prob(Omnibus):</th> <td> 0.161</td> <th>  Jarque-Bera (JB):  </th> <td>   2.086</td>\n",
       "</tr>\n",
       "<tr>\n",
       "  <th>Skew:</th>          <td> 0.750</td> <th>  Prob(JB):          </th> <td>   0.352</td>\n",
       "</tr>\n",
       "<tr>\n",
       "  <th>Kurtosis:</th>      <td> 3.367</td> <th>  Cond. No.          </th> <td>    18.3</td>\n",
       "</tr>\n",
       "</table><br/><br/>Notes:<br/>[1] Standard Errors assume that the covariance matrix of the errors is correctly specified."
      ],
      "text/plain": [
       "<class 'statsmodels.iolib.summary.Summary'>\n",
       "\"\"\"\n",
       "                            OLS Regression Results                            \n",
       "==============================================================================\n",
       "Dep. Variable:               delivery   R-squared:                       0.682\n",
       "Model:                            OLS   Adj. R-squared:                  0.666\n",
       "Method:                 Least Squares   F-statistic:                     40.80\n",
       "Date:                Sun, 31 Oct 2021   Prob (F-statistic):           3.98e-06\n",
       "Time:                        10:07:45   Log-Likelihood:                -51.357\n",
       "No. Observations:                  21   AIC:                             106.7\n",
       "Df Residuals:                      19   BIC:                             108.8\n",
       "Df Model:                           1                                         \n",
       "Covariance Type:            nonrobust                                         \n",
       "==============================================================================\n",
       "                 coef    std err          t      P>|t|      [0.025      0.975]\n",
       "------------------------------------------------------------------------------\n",
       "Intercept      6.5827      1.722      3.823      0.001       2.979      10.186\n",
       "sorting        1.6490      0.258      6.387      0.000       1.109       2.189\n",
       "==============================================================================\n",
       "Omnibus:                        3.649   Durbin-Watson:                   1.248\n",
       "Prob(Omnibus):                  0.161   Jarque-Bera (JB):                2.086\n",
       "Skew:                           0.750   Prob(JB):                        0.352\n",
       "Kurtosis:                       3.367   Cond. No.                         18.3\n",
       "==============================================================================\n",
       "\n",
       "Notes:\n",
       "[1] Standard Errors assume that the covariance matrix of the errors is correctly specified.\n",
       "\"\"\""
      ]
     },
     "execution_count": 6,
     "metadata": {},
     "output_type": "execute_result"
    }
   ],
   "source": [
    "model.summary()"
   ]
  },
  {
   "cell_type": "markdown",
   "id": "3437821c",
   "metadata": {},
   "source": [
    "* H0 = y is not dependent on x\n",
    "* Ha = y is dependent on x\n",
    "* P value < alpha value there for the reject null hypothesis\n",
    "* the y is dependent on x\n",
    "* R-squared:\t0.682 \n",
    "* this model is good model"
   ]
  },
  {
   "cell_type": "markdown",
   "id": "ade4cfa9",
   "metadata": {},
   "source": [
    "#  2) Salary_hike -> Build a prediction model for Salary_hike"
   ]
  },
  {
   "cell_type": "code",
   "execution_count": 2,
   "id": "563d3fe7",
   "metadata": {},
   "outputs": [
    {
     "name": "stdout",
     "output_type": "stream",
     "text": [
      "<class 'pandas.core.frame.DataFrame'>\n",
      "RangeIndex: 30 entries, 0 to 29\n",
      "Data columns (total 2 columns):\n",
      " #   Column  Non-Null Count  Dtype  \n",
      "---  ------  --------------  -----  \n",
      " 0   Year    30 non-null     float64\n",
      " 1   Salary  30 non-null     float64\n",
      "dtypes: float64(2)\n",
      "memory usage: 608.0 bytes\n",
      "PREDICTION VALUE : \n",
      " 0    120291.823413\n",
      "1    129741.785735\n",
      "dtype: float64\n"
     ]
    },
    {
     "name": "stderr",
     "output_type": "stream",
     "text": [
      "C:\\Users\\Solan\\anaconda3\\lib\\site-packages\\seaborn\\distributions.py:2557: FutureWarning: `distplot` is a deprecated function and will be removed in a future version. Please adapt your code to use either `displot` (a figure-level function with similar flexibility) or `histplot` (an axes-level function for histograms).\n",
      "  warnings.warn(msg, FutureWarning)\n",
      "C:\\Users\\Solan\\anaconda3\\lib\\site-packages\\seaborn\\distributions.py:2557: FutureWarning: `distplot` is a deprecated function and will be removed in a future version. Please adapt your code to use either `displot` (a figure-level function with similar flexibility) or `histplot` (an axes-level function for histograms).\n",
      "  warnings.warn(msg, FutureWarning)\n"
     ]
    },
    {
     "data": {
      "image/png": "[encoded data removed]",
      "text/plain": [
       "<Figure size 432x288 with 1 Axes>"
      ]
     },
     "metadata": {
      "needs_background": "light"
     },
     "output_type": "display_data"
    }
   ],
   "source": [
    "# 2) Salary_hike -> Build a prediction model for Salary_hike\n",
    "\n",
    "\n",
    "data = pd.read_csv(\"Salary_Data.csv\")\n",
    "\n",
    "data.head()\n",
    "\n",
    "data1 = data.rename({\"YearsExperience\":\"Year\"},axis = 1)\n",
    "\n",
    "data1\n",
    "\n",
    "data1.info()\n",
    "\n",
    "# corelation\n",
    "\n",
    "data1.corr()\n",
    "\n",
    "sns.distplot(data1['Year'])\n",
    "\n",
    "sns.distplot(data1['Salary'])\n",
    "\n",
    "#### There is both the graphs are reprsent the positive skewness there for the the relation between Year and Salary is positive relation\n",
    "#* x => independent varible => Year\n",
    "#* y => dependent variable => salary\n",
    "\n",
    "model = smf.ols(\"Salary~Year\",data = data1).fit()\n",
    "\n",
    "sns.regplot(x = \"Year\", y = \"Salary\", data = data1)\n",
    "\n",
    "model.summary()\n",
    "\n",
    "###  predict for new data points\n",
    "\n",
    "## predict for 10 and 11 years of experince\n",
    "\n",
    "newdata =pd.Series([10,11])\n",
    "\n",
    "data_pre= pd.DataFrame(newdata,columns=['Year'])\n",
    "\n",
    "data_pre\n",
    "\n",
    "A = model.predict(data_pre)\n",
    "\n",
    "print(\"PREDICTION VALUE : \\n\", A)"
   ]
  },
  {
   "cell_type": "code",
   "execution_count": 3,
   "id": "549af175",
   "metadata": {
    "scrolled": true
   },
   "outputs": [
    {
     "data": {
      "text/plain": [
       "<AxesSubplot:xlabel='Year', ylabel='Salary'>"
      ]
     },
     "execution_count": 3,
     "metadata": {},
     "output_type": "execute_result"
    },
    {
     "data": {
      "image/png": "[encoded data removed]",
      "text/plain": [
       "<Figure size 432x288 with 1 Axes>"
      ]
     },
     "metadata": {
      "needs_background": "light"
     },
     "output_type": "display_data"
    }
   ],
   "source": [
    "sns.regplot(x = \"Year\", y = \"Salary\", data = data1)\n"
   ]
  },
  {
   "cell_type": "code",
   "execution_count": null,
   "id": "0cb4cd82",
   "metadata": {},
   "outputs": [],
   "source": []
  }
 ],
 "metadata": {
  "gist": {
   "data": {
    "description": "assignment 04 simple linear regration.ipynb",
    "public": true
   },
   "id": ""
  },
  "kernelspec": {
   "display_name": "Python 3",
   "language": "python",
   "name": "python3"
  },
  "language_info": {
   "codemirror_mode": {
    "name": "ipython",
    "version": 3
   },
   "file_extension": ".py",
   "mimetype": "text/x-python",
   "name": "python",
   "nbconvert_exporter": "python",
   "pygments_lexer": "ipython3",
   "version": "3.8.8"
  }
 },
 "nbformat": 4,
 "nbformat_minor": 5
}
